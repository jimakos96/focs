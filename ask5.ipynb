{
  "cells": [
    {
      "metadata": {
        "trusted": true
      },
      "cell_type": "code",
      "source": "import numpy as np",
      "execution_count": 3,
      "outputs": []
    },
    {
      "metadata": {
        "trusted": true
      },
      "cell_type": "code",
      "source": "#random binary array shows attendance of student\nn=30 #days of the schedule \ndays= np.random.randint(2, size=n)",
      "execution_count": 4,
      "outputs": []
    },
    {
      "metadata": {
        "trusted": true
      },
      "cell_type": "code",
      "source": "days",
      "execution_count": 5,
      "outputs": [
        {
          "output_type": "execute_result",
          "execution_count": 5,
          "data": {
            "text/plain": "array([0, 1, 0, 1, 0, 1, 1, 0, 1, 0, 0, 1, 1, 0, 0, 0, 1, 0, 1, 0, 1, 0,\n       1, 0, 1, 1, 1, 1, 0, 0])"
          },
          "metadata": {}
        }
      ]
    },
    {
      "metadata": {
        "trusted": true
      },
      "cell_type": "code",
      "source": "#get the number of day that student goes to EMP\narr=[]\ncount=0\nfor i in range(0,len(days)):\n    if days[i]==1:\n        arr.append(i+1)\n\n\n",
      "execution_count": 6,
      "outputs": []
    },
    {
      "metadata": {
        "trusted": true
      },
      "cell_type": "code",
      "source": "arr",
      "execution_count": 7,
      "outputs": [
        {
          "output_type": "execute_result",
          "execution_count": 7,
          "data": {
            "text/plain": "[2, 4, 6, 7, 9, 12, 13, 17, 19, 21, 23, 25, 26, 27, 28]"
          },
          "metadata": {}
        }
      ]
    },
    {
      "metadata": {
        "trusted": true
      },
      "cell_type": "code",
      "source": "#values as an example of cost of different type of tickets\ncosts = [2,7,15] #2->1day ,7->7 days, 15->30 days\nC=[1,7,30] #days mapping specific cost ",
      "execution_count": 8,
      "outputs": []
    },
    {
      "metadata": {
        "trusted": true
      },
      "cell_type": "code",
      "source": "def minCost( days, costs):\n        \"\"\"\n        :type days: List[int]\n        :type costs: List[int]\n        :rtype: int\n        \"\"\"\n        N = len(days)\n        dp = [0]*(366)  # dp[i] means up to i-th day the minimum cost of the tickets\n        for i in days:\n            dp[i] = 1\n        for i in range(1,366):\n            if 0 == dp[i]:\n                dp[i] = dp[i-1]\n            else:\n                dp[i] = min(costs[0]+dp[i-C[0]], costs[1]+dp[max(0,i-C[1])], costs[2]+dp[max(0,i-C[2])])\n        return dp[-1]\n\n",
      "execution_count": 9,
      "outputs": []
    },
    {
      "metadata": {
        "trusted": true
      },
      "cell_type": "code",
      "source": "minCost(arr,costs)\n",
      "execution_count": 10,
      "outputs": [
        {
          "output_type": "execute_result",
          "execution_count": 10,
          "data": {
            "text/plain": "15"
          },
          "metadata": {}
        }
      ]
    },
    {
      "metadata": {
        "trusted": true
      },
      "cell_type": "code",
      "source": "",
      "execution_count": 67,
      "outputs": []
    },
    {
      "metadata": {
        "trusted": true
      },
      "cell_type": "code",
      "source": "#general pseudocode for all cases \n\n\n\n#We have an binary array that shows whether or not student goes to emp lets say for a month\n# S=[1, 0, 1, 1, 1, 0, 1, 0, 0, 0, 0, 1, 0, 1, 1, 1, 1, 0, 1, 1, 1, 1, 1, 0, 1, 1, 0, 1, 1, 1, 1] 0->kopana ,1->ma8hma\n# I use the S array to get a new array days[] that shows me the specific number of day that student goes \n#for example for the S that i have days=[1, 3, 4, 5, 7, 12, 14, 15, 16, 17, 19, 20, 21, 22, 23, 25, 26, 28, 29, 30, 31]\n# we define a cost array costs=[2,7,15] that show the price of ticket and the days we can use it \n#for example above we have for 1-day cost is 2$ ,7-day cost is $7 ,30-day cost is 15$ according to the implemenation of function minCost\n\nS=binary_array          #for n days in the schedule that shows attendance of student\ndays_going_in_emp=num_days(S) #the implementation of num_days() is above  O(n)\ncosts_of_tickets=[p1,p2,...pk]     #k<=n where pi is the cost of ticket that allows us to use it for i days \n                        #p1<p2<p3<...<pk  price is increasing with the number of days\n\nC=[c1,c2,....,ck]       #number of days that correspond to a specific cost pi\n\n\ndef minCost( days_going_in_emp, costs_of_tickets):\n        \n        N = len(days)\n        dp = [0]*(T+1)   # dp[i] means up to i-th day the minimum cost of the tickets for max period of T days\n        for i in days:\n            dp[i] = 1\n        for i in range(1,(T+1)):\n            if 0 == dp[i]:\n                dp[i] = dp[i-1] #no need to buy ticket student doesn't go to EMP\n            else:\n                dp[i] = min(costs[0]+dp[i-C[0]], costs[1]+dp[max(0,i-C[1])], costs[2]+dp[max(0,i-C[2])],....,costs[k]+dp[max(0,i-C[k])])\n        return dp[-1] # the minimum cost for all days of the schedule of the student whether or not he/she went to EMP\n    # complexity O(k*T)=O(k^2)  worst case T=k types of tickets equals to days that the student can maybe go to EMP \ndef num_days(S):   \n    arr=[]\n    count=0\n    for i in range(0,len(S)):\n        if days[i]==1:\n            arr.append(i+1)\n    return arr\n    \n    \n    \n\n",
      "execution_count": null,
      "outputs": []
    },
    {
      "metadata": {
        "trusted": true
      },
      "cell_type": "code",
      "source": "minCost( days costs)",
      "execution_count": null,
      "outputs": []
    },
    {
      "metadata": {
        "trusted": true
      },
      "cell_type": "code",
      "source": "",
      "execution_count": null,
      "outputs": []
    }
  ],
  "metadata": {
    "kernelspec": {
      "name": "python36",
      "display_name": "Python 3.6",
      "language": "python"
    },
    "language_info": {
      "mimetype": "text/x-python",
      "nbconvert_exporter": "python",
      "name": "python",
      "pygments_lexer": "ipython3",
      "version": "3.6.6",
      "file_extension": ".py",
      "codemirror_mode": {
        "version": 3,
        "name": "ipython"
      }
    }
  },
  "nbformat": 4,
  "nbformat_minor": 2
}