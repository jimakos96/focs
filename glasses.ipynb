{
  "cells": [
    {
      "metadata": {
        "trusted": true
      },
      "cell_type": "code",
      "source": "def glass_drop(k, n):\n    \"\"\"\n    \n        k (int): The number of glasses remaining.\n        n (int): over n height we know for sure that the glass breaks.\n    Returns:\n        int: The minimum number of attempts that must be made to find the right height \n    \"\"\"\n    # If only one glass remains, n attempts must be made to find the correct height.\n    if k == 1:\n        return n\n    # Lookup table for previous solutions.\n    W = [[0 for y in range(n + 1)] for x in range(k)] # array of zeros kXn dimentions\n    # Initialize all the possible combinations of height in the first row\n    for i in range(n + 1):\n        W[0][i] = i \n    # Start on second row, working downward.\n    for i in range(1, k): # Number of available glasses up to k\n        # Calculate values for each cell.\n        for j in range(1, n + 1):  # j shows the values of height in cm we have \n            W[i][j] = min((max(W[i][j - x], W[i - 1][x - 1]) for x in range(1, j + 1))) + 1 \n            \n            # If the glass doesnt break we have i glasses j-x  consecutive remaining cm to check \n            #if the glass breaks we have i-1 glasses left and  x-1 consecutive values of cm to check  \n    # Return the result.\n    return W[k - 1][n]",
      "execution_count": 11,
      "outputs": []
    },
    {
      "metadata": {
        "trusted": true
      },
      "cell_type": "code",
      "source": "glass_drop(2,100)",
      "execution_count": 12,
      "outputs": [
        {
          "output_type": "execute_result",
          "execution_count": 12,
          "data": {
            "text/plain": "14"
          },
          "metadata": {}
        }
      ]
    },
    {
      "metadata": {
        "trusted": true
      },
      "cell_type": "code",
      "source": "glass_drop(2,200)",
      "execution_count": 23,
      "outputs": [
        {
          "output_type": "execute_result",
          "execution_count": 23,
          "data": {
            "text/plain": "20"
          },
          "metadata": {}
        }
      ]
    },
    {
      "metadata": {
        "trusted": true
      },
      "cell_type": "code",
      "source": "glass_drop(5,1000)\n",
      "execution_count": 24,
      "outputs": [
        {
          "output_type": "execute_result",
          "execution_count": 24,
          "data": {
            "text/plain": "11"
          },
          "metadata": {}
        }
      ]
    }
  ],
  "metadata": {
    "kernelspec": {
      "name": "python36",
      "display_name": "Python 3.6",
      "language": "python"
    },
    "language_info": {
      "mimetype": "text/x-python",
      "nbconvert_exporter": "python",
      "name": "python",
      "pygments_lexer": "ipython3",
      "version": "3.6.6",
      "file_extension": ".py",
      "codemirror_mode": {
        "version": 3,
        "name": "ipython"
      }
    }
  },
  "nbformat": 4,
  "nbformat_minor": 2
}